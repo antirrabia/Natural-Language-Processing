{
 "cells": [
  {
   "cell_type": "code",
   "execution_count": 1,
   "id": "ad916463-a4e6-4e23-8fd7-94414c0fc822",
   "metadata": {},
   "outputs": [],
   "source": [
    "import torch"
   ]
  },
  {
   "cell_type": "code",
   "execution_count": 2,
   "id": "0367fe7d-7f39-4837-8031-be8b6a28ff00",
   "metadata": {},
   "outputs": [],
   "source": [
    "x = torch.rand(7,2)"
   ]
  },
  {
   "cell_type": "code",
   "execution_count": 3,
   "id": "6e97ae8c-75c8-452a-b6de-ed0da48477b5",
   "metadata": {},
   "outputs": [
    {
     "name": "stdout",
     "output_type": "stream",
     "text": [
      "tensor([[0.5124, 0.7670],\n",
      "        [0.5263, 0.6204],\n",
      "        [0.3476, 0.9393],\n",
      "        [0.6033, 0.4477],\n",
      "        [0.0305, 0.4709],\n",
      "        [0.2153, 0.3563],\n",
      "        [0.3896, 0.0352]])\n"
     ]
    }
   ],
   "source": [
    "print(x)"
   ]
  },
  {
   "cell_type": "code",
   "execution_count": 1,
   "id": "5bb97303-552c-4b6c-9ea6-90d412527359",
   "metadata": {},
   "outputs": [],
   "source": [
    "import torch"
   ]
  },
  {
   "cell_type": "code",
   "execution_count": 2,
   "id": "297b9415-e1d5-47a9-bc04-a85e7bb3d7b9",
   "metadata": {},
   "outputs": [
    {
     "data": {
      "text/plain": [
       "True"
      ]
     },
     "execution_count": 2,
     "metadata": {},
     "output_type": "execute_result"
    }
   ],
   "source": [
    "torch.cuda.is_available()"
   ]
  },
  {
   "cell_type": "code",
   "execution_count": null,
   "id": "f53c227e-e3e4-4bb4-84d9-5ddbbb457451",
   "metadata": {},
   "outputs": [],
   "source": []
  }
 ],
 "metadata": {
  "kernelspec": {
   "display_name": "PyTorch",
   "language": "python",
   "name": "pt"
  },
  "language_info": {
   "codemirror_mode": {
    "name": "ipython",
    "version": 3
   },
   "file_extension": ".py",
   "mimetype": "text/x-python",
   "name": "python",
   "nbconvert_exporter": "python",
   "pygments_lexer": "ipython3",
   "version": "3.11.7"
  }
 },
 "nbformat": 4,
 "nbformat_minor": 5
}
