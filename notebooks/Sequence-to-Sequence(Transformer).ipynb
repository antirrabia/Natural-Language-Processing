{
 "cells": [
  {
   "cell_type": "code",
   "execution_count": 1,
   "id": "1997e80c-4af3-4faa-93cf-4caef77e5328",
   "metadata": {},
   "outputs": [],
   "source": [
    "import random\n",
    "import string\n",
    "import re\n",
    "\n",
    "import pathlib\n",
    "import tensorflow as tf\n",
    "import matplotlib.pyplot as plt\n",
    "import numpy as np\n",
    "\n",
    "from tensorflow import keras\n",
    "from tensorflow.keras import layers\n",
    "from tensorflow.keras.utils import text_dataset_from_directory"
   ]
  },
  {
   "cell_type": "markdown",
   "id": "96c919c5-7e7b-4eaf-acff-f839a0fa2f67",
   "metadata": {},
   "source": [
    "### Parsing the **eng-spa** file"
   ]
  },
  {
   "cell_type": "code",
   "execution_count": 2,
   "id": "340d1cef-3525-42b1-9249-1aa7018e0e00",
   "metadata": {},
   "outputs": [],
   "source": [
    "text_file = '/home/antirrabia/Documents/DeepLearning-SETs/spa-eng/spa.txt'"
   ]
  },
  {
   "cell_type": "code",
   "execution_count": 3,
   "id": "01ee869f-053a-4df1-af11-a67e2a6d5de9",
   "metadata": {},
   "outputs": [],
   "source": [
    "with open(text_file) as f:\n",
    "    lines = f.read().split('\\n')[:-1]\n",
    "    \n",
    "text_pairs = []\n",
    "for line in lines:\n",
    "    english, spanish = line.split('\\t')\n",
    "    \n",
    "    spanish = \"[start] \" + spanish + \" [end]\"\n",
    "    \n",
    "    text_pairs.append((english, spanish))"
   ]
  },
  {
   "cell_type": "markdown",
   "id": "257daaa6-0fed-43fb-b439-2b0660a82237",
   "metadata": {},
   "source": [
    "### Taking a look"
   ]
  },
  {
   "cell_type": "code",
   "execution_count": 4,
   "id": "a9fd9401-cfd5-4da6-a733-93ee5648cc54",
   "metadata": {},
   "outputs": [
    {
     "name": "stdout",
     "output_type": "stream",
     "text": [
      "(\"I couldn't persuade Tom to wait.\", '[start] No pude convencer a Tom para que esperara. [end]')\n"
     ]
    }
   ],
   "source": [
    "print(random.choice(text_pairs))"
   ]
  },
  {
   "cell_type": "markdown",
   "id": "15367a51-dbe6-4235-a079-960146e0ec41",
   "metadata": {},
   "source": [
    "### Getting the training, validation, and test sets"
   ]
  },
  {
   "cell_type": "code",
   "execution_count": 5,
   "id": "a21a7b49-a27c-440f-aa95-752b7329ca5c",
   "metadata": {},
   "outputs": [],
   "source": [
    "random.shuffle(text_pairs)\n",
    "\n",
    "num_va_samples = int(0.15 * len(text_pairs))\n",
    "num_tr_samples = len(text_pairs) - 2 * num_va_samples\n",
    "\n",
    "tr_pairs = text_pairs[:num_tr_samples]\n",
    "va_pairs = text_pairs[num_tr_samples:num_tr_samples + num_va_samples]\n",
    "te_pairs = text_pairs[num_tr_samples + num_va_samples:]"
   ]
  },
  {
   "cell_type": "markdown",
   "id": "f555a1b7-f672-4d43-af29-9b0a49a2fa5c",
   "metadata": {},
   "source": [
    "### TextVectorization layers"
   ]
  },
  {
   "cell_type": "code",
   "execution_count": 6,
   "id": "084968c0-d1a9-4f91-bd59-5993fe89182d",
   "metadata": {},
   "outputs": [],
   "source": [
    "# 1 for eng and 1 for spa\n",
    "strip_chars = string.punctuation + '¿'\n",
    "strip_chars = strip_chars.replace('[', '')\n",
    "strip_chars = strip_chars.replace(']', '')\n",
    "\n",
    "def custom_standardization(input_string):\n",
    "    lowercase = tf.strings.lower(input_string)\n",
    "    \n",
    "    result = tf.strings.regex_replace(\n",
    "        lowercase, f\"[{re.escape(strip_chars)}]\", \"\"\n",
    "    )\n",
    "    \n",
    "    return result"
   ]
  },
  {
   "cell_type": "code",
   "execution_count": 7,
   "id": "d03a7755-c29d-4baf-9d6f-6da6e1231e11",
   "metadata": {},
   "outputs": [],
   "source": [
    "vocab_size = 15000\n",
    "sequence_length = 20\n",
    "\n",
    "source_vectorization = layers.TextVectorization(\n",
    "    max_tokens=vocab_size,\n",
    "    output_mode='int',\n",
    "    output_sequence_length=sequence_length\n",
    ")\n",
    "\n",
    "target_vectorization = layers.TextVectorization(\n",
    "    max_tokens=vocab_size,\n",
    "    output_mode='int',\n",
    "    \n",
    "    # we need to offset the spanish sentence by 1\n",
    "    output_sequence_length=sequence_length + 1,\n",
    "    \n",
    "    # using our custom standarization function\n",
    "    standardize=custom_standardization\n",
    ")"
   ]
  },
  {
   "cell_type": "code",
   "execution_count": 8,
   "id": "05a00b8b-9bdf-4235-8aa6-7d7c8fce24b9",
   "metadata": {},
   "outputs": [],
   "source": [
    "tr_eng_d = [pair[0] for pair in tr_pairs]\n",
    "tr_spa_d = [pair[1] for pair in tr_pairs]\n",
    "\n",
    "source_vectorization.adapt(tr_eng_d)\n",
    "target_vectorization.adapt(tr_spa_d)\n",
    "\n",
    "batch_size = 64\n",
    "\n",
    "def format_dataset(eng, spa):\n",
    "    eng = source_vectorization(eng)\n",
    "    spa = target_vectorization(spa)\n",
    "    \n",
    "    result = (\n",
    "        {\n",
    "            'english': eng,\n",
    "            # spanish sentence does not include \n",
    "            # the last token to mach inputs and targets\n",
    "            'spanish': spa[:, :-1]\n",
    "        }, spa[:, 1:] # Spanish sentence is offset by 1\n",
    "    )\n",
    "        \n",
    "    return result\n",
    "\n",
    "def make_dataset(pairs):\n",
    "    eng_texts, spa_texts = zip(*pairs)\n",
    "    eng_texts = list(eng_texts)\n",
    "    spa_texts = list(spa_texts)\n",
    "    \n",
    "    dataset = tf.data.Dataset.from_tensor_slices((eng_texts, spa_texts))\n",
    "    dataset = dataset.batch(batch_size)\n",
    "    dataset = dataset.map(format_dataset, num_parallel_calls=tf.data.AUTOTUNE)\n",
    "    \n",
    "    return dataset.shuffle(2048).prefetch(16).cache()"
   ]
  },
  {
   "cell_type": "code",
   "execution_count": 9,
   "id": "11e58ff9-34e7-4be3-a269-c232ba889b34",
   "metadata": {},
   "outputs": [],
   "source": [
    "tr_d = make_dataset(tr_pairs)\n",
    "va_d = make_dataset(va_pairs)\n",
    "te_d = make_dataset(te_pairs)"
   ]
  },
  {
   "cell_type": "markdown",
   "id": "9bf84a30-d6dc-4d16-8e10-5043ef974d4d",
   "metadata": {},
   "source": [
    "### Taking a look"
   ]
  },
  {
   "cell_type": "code",
   "execution_count": 10,
   "id": "97c993fe-5024-4f11-b3e2-87a3ad6c031a",
   "metadata": {},
   "outputs": [
    {
     "name": "stdout",
     "output_type": "stream",
     "text": [
      "inputs['english'].shape: (64, 20)\n",
      "inputs['spanish'].shape: (64, 20)\n",
      "targets.shape: (64, 20)\n"
     ]
    }
   ],
   "source": [
    "for inputs, targets in tr_d.take(1):\n",
    "    print(f\"inputs['english'].shape: {inputs['english'].shape}\")\n",
    "    print(f\"inputs['spanish'].shape: {inputs['spanish'].shape}\")\n",
    "    print(f\"targets.shape: {targets.shape}\")"
   ]
  },
  {
   "cell_type": "markdown",
   "id": "01e8b08d-acd5-46f6-b910-94af27b2e949",
   "metadata": {},
   "source": [
    "### The Positional Embedding class"
   ]
  },
  {
   "cell_type": "code",
   "execution_count": 24,
   "id": "ed71eb58-5c84-4096-ae9b-8e9a5f76a8c2",
   "metadata": {},
   "outputs": [],
   "source": [
    "class PositionalEmbedding(layers.Layer):\n",
    "    def __init__(self, sequence_length, input_dim, output_dim, **kwargs):\n",
    "        super().__init__(**kwargs)\n",
    "        \n",
    "        self.token_embedding = layers.Embedding(input_dim=input_dim, output_dim=output_dim)\n",
    "        self.position_embedding = layers.Embedding(input_dim=sequence_length, output_dim=output_dim)\n",
    "        \n",
    "        self.sequence_length = sequence_length\n",
    "        self.input_dim = input_dim\n",
    "        self.output_dim = output_dim\n",
    "        \n",
    "    def call(self, inputs):\n",
    "        length = tf.shape(inputs)[-1]\n",
    "        position = tf.range(start=0, limit=length, delta=1)\n",
    "        \n",
    "        embedding_tokens = self.token_embedding(inputs)\n",
    "        embedding_positions = self.position_embedding(position)\n",
    "        \n",
    "        return embedding_positions + embedding_tokens\n",
    "    \n",
    "    def compute_mask(self, inputs, mask=None):\n",
    "        return tf.math.not_equal(inputs, 0)\n",
    "    \n",
    "    def get_config(self):\n",
    "        config = super().get_config()\n",
    "        \n",
    "        config.update(\n",
    "            {\n",
    "                'input_dim': self.input_dim,\n",
    "                'output_dim': self.output_dim,\n",
    "                'sequence_length': self.sequence_length\n",
    "            }\n",
    "        )\n",
    "        \n",
    "        return config"
   ]
  },
  {
   "cell_type": "markdown",
   "id": "fea1f692-0e45-43b7-8440-7ca46708e49d",
   "metadata": {},
   "source": [
    "### The Transformer Encoder class"
   ]
  },
  {
   "cell_type": "code",
   "execution_count": 25,
   "id": "65c4cf8b-06ee-4897-971f-464702a8923b",
   "metadata": {},
   "outputs": [],
   "source": [
    "class TransformerEncoder(layers.Layer):\n",
    "    def __init__(self, embed_dim, dense_dim, num_heads, **kwargs):\n",
    "        super().__init__(**kwargs)\n",
    "        \n",
    "        self.embed_dim = embed_dim\n",
    "        self.dense_dim = dense_dim\n",
    "        self.num_heads = num_heads\n",
    "        \n",
    "        self.attention = layers.MultiHeadAttention(\n",
    "            num_heads=num_heads, key_dim=embed_dim\n",
    "        )\n",
    "        \n",
    "        self.dense_proj = keras.Sequential(\n",
    "            [\n",
    "                layers.Dense(dense_dim, activation='relu'),\n",
    "                layers.Dense(embed_dim)\n",
    "            ]\n",
    "        )\n",
    "        \n",
    "        self.layernorm_1 = layers.LayerNormalization()\n",
    "        self.layernorm_2 = layers.LayerNormalization()\n",
    "        \n",
    "    def call(self, inputs, mask=None):\n",
    "        \n",
    "        if mask is not None:\n",
    "            mask = mask[:, tf.newaxis, :]\n",
    "            \n",
    "        attention_output = self.attention(inputs, inputs, attention_mask=mask)\n",
    "        \n",
    "        proj_input = self.layernorm_1(inputs + attention_output)\n",
    "        \n",
    "        proj_output = self.dense_proj(proj_input)\n",
    "        \n",
    "        return self.layernorm_2(proj_input + proj_output)\n",
    "    \n",
    "    def get_config(self):\n",
    "        config = super().get_config()\n",
    "        \n",
    "        config.update(\n",
    "            {\n",
    "                'embed_dim': self.embed_dim,\n",
    "                'dense_dim': self.dense_dim,\n",
    "                'num_heads': self.num_heads\n",
    "            }\n",
    "        )\n",
    "        \n",
    "        return config"
   ]
  },
  {
   "cell_type": "markdown",
   "id": "dfcb8ee5-1039-4098-8079-966b352d6029",
   "metadata": {},
   "source": [
    "### The Transformer Decoder class"
   ]
  },
  {
   "cell_type": "code",
   "execution_count": 26,
   "id": "e3757fd5-59bc-4cde-997e-608c18b3501b",
   "metadata": {},
   "outputs": [],
   "source": [
    "class TransformerDecoder(layers.Layer):\n",
    "    def __init__(self, embed_dim, dense_dim, num_heads, **kwargs):\n",
    "        super().__init__(**kwargs)\n",
    "        \n",
    "        self.embed_dim = embed_dim\n",
    "        self.dense_dim = dense_dim\n",
    "        self.num_heads = num_heads\n",
    "        \n",
    "        self.attention_1 = layers.MultiHeadAttention(\n",
    "            num_heads=num_heads, key_dim=embed_dim\n",
    "        )\n",
    "        \n",
    "        self.attention_2 = layers.MultiHeadAttention(\n",
    "            num_heads=num_heads, key_dim=embed_dim\n",
    "        )\n",
    "        \n",
    "        self.dense_proj = keras.Sequential(\n",
    "            [\n",
    "                layers.Dense(dense_dim, activation='relu'),\n",
    "                layers.Dense(embed_dim,)\n",
    "            ]\n",
    "        )\n",
    "        \n",
    "        self.layernorm_1 = layers.LayerNormalization()\n",
    "        self.layernorm_2 = layers.LayerNormalization()\n",
    "        self.layernorm_3 = layers.LayerNormalization()\n",
    "        \n",
    "        self.supports_masking = True\n",
    "        \n",
    "    def get_causal_attention_mask(self, inputs):\n",
    "        input_shape = tf.shape(inputs)\n",
    "        batch_size, sequence_length = input_shape[0], input_shape[1]\n",
    "        \n",
    "        i = tf.range(sequence_length)[:, tf.newaxis]\n",
    "        j = tf.range(sequence_length)\n",
    "        \n",
    "        mask = tf.cast(i >= j, dtype='int32')\n",
    "        mask = tf.reshape(mask, (1, sequence_length, sequence_length))\n",
    "        \n",
    "        mult = tf.concat(\n",
    "            [\n",
    "                tf.expand_dims(batch_size, -1),\n",
    "                tf.constant([1, 1], dtype=tf.int32)\n",
    "            ], axis=0\n",
    "        )\n",
    "        \n",
    "        return tf.tile(mask, mult)\n",
    "    \n",
    "    def call(self, inputs, encoder_outputs, mask=None):\n",
    "        causal_mask = self.get_causal_attention_mask(inputs)\n",
    "        \n",
    "        if mask is not None:\n",
    "            padding_mask = tf.cast(mask[:, tf.newaxis, :], dtype='int32')\n",
    "            padding_mask = tf.minimum(padding_mask, causal_mask)\n",
    "        else:\n",
    "            padding_mask = mask\n",
    "            \n",
    "        attention_output_1 = self.attention_1(\n",
    "            query=inputs,\n",
    "            value=inputs,\n",
    "            key=inputs,\n",
    "            attention_mask=causal_mask\n",
    "        )\n",
    "        \n",
    "        attention_output_1 = self.layernorm_1(inputs + attention_output_1)\n",
    "        \n",
    "        attention_output_2 = self.attention_2(\n",
    "            query=attention_output_1,\n",
    "            value=encoder_outputs,\n",
    "            key=encoder_outputs,\n",
    "            attention_mask=padding_mask\n",
    "        )\n",
    "        \n",
    "        attention_output_2 = self.layernorm_2( attention_output_1 + attention_output_2)\n",
    "        \n",
    "        proj_output = self.dense_proj(attention_output_2)\n",
    "        \n",
    "        return self.layernorm_3(attention_output_2 + proj_output)\n",
    "    \n",
    "    def get_config(self):\n",
    "        config = super().get_config()\n",
    "        \n",
    "        config.update(\n",
    "            {\n",
    "                'embed_dim': self.embed_dim,\n",
    "                'dense_dim': self.dense_dim,\n",
    "                'num_heads': self.num_heads\n",
    "            }\n",
    "        )\n",
    "        \n",
    "        return config"
   ]
  },
  {
   "cell_type": "markdown",
   "id": "15ed9fe4-f2fc-4f91-9cfe-8703c46fe7cb",
   "metadata": {},
   "source": [
    "### The Model"
   ]
  },
  {
   "cell_type": "code",
   "execution_count": 27,
   "id": "f7c8fc95-15fd-452b-a12d-929cb5d5b54e",
   "metadata": {},
   "outputs": [
    {
     "name": "stdout",
     "output_type": "stream",
     "text": [
      "INFO:tensorflow:Using MirroredStrategy with devices ('/job:localhost/replica:0/task:0/device:GPU:0', '/job:localhost/replica:0/task:0/device:GPU:1')\n"
     ]
    }
   ],
   "source": [
    "strategy = tf.distribute.MirroredStrategy()"
   ]
  },
  {
   "cell_type": "code",
   "execution_count": 28,
   "id": "a20adab7-5231-4f09-87b1-853d75572854",
   "metadata": {},
   "outputs": [],
   "source": [
    "embed_dim = 256\n",
    "dense_dim = 2048\n",
    "num_heads = 8"
   ]
  },
  {
   "cell_type": "code",
   "execution_count": 29,
   "id": "1c810787-a756-472e-964a-f905eef93555",
   "metadata": {},
   "outputs": [],
   "source": [
    "with strategy.scope():\n",
    "    \n",
    "    encoder_inputs = keras.Input(shape=(None, ), dtype='int64', name='english')\n",
    "    x = PositionalEmbedding(sequence_length, vocab_size, embed_dim)(encoder_inputs)\n",
    "    encoder_outputs = TransformerEncoder(embed_dim, dense_dim, num_heads)(x)\n",
    "    \n",
    "    decoder_inputs = keras.Input(shape=(None, ), dtype='int64', name='spanish')\n",
    "    x = PositionalEmbedding(sequence_length, vocab_size, embed_dim)(decoder_inputs)\n",
    "    x = TransformerDecoder(embed_dim, dense_dim, num_heads)(x, encoder_outputs)\n",
    "    \n",
    "    x = layers.Dropout(0.5)(x)\n",
    "    \n",
    "    decoder_outputs = layers.Dense(vocab_size, activation='softmax')(x)\n",
    "    \n",
    "    transformer = keras.Model([encoder_inputs, decoder_inputs], decoder_outputs)\n",
    "    \n",
    "    transformer.compile(\n",
    "        optimizer='rmsprop',\n",
    "        loss='sparse_categorical_crossentropy',\n",
    "        metrics=['accuracy']\n",
    "    )"
   ]
  },
  {
   "cell_type": "code",
   "execution_count": 30,
   "id": "244a680e-c681-42a5-b2b0-f5f52d3a8e90",
   "metadata": {},
   "outputs": [
    {
     "name": "stdout",
     "output_type": "stream",
     "text": [
      "Epoch 1/34\n",
      "1302/1302 [==============================] - 116s 81ms/step - loss: 3.7942 - accuracy: 0.4398 - val_loss: 2.8544 - val_accuracy: 0.5399\n",
      "Epoch 2/34\n",
      "1302/1302 [==============================] - 95s 73ms/step - loss: 2.8507 - accuracy: 0.5500 - val_loss: 2.5073 - val_accuracy: 0.5924\n",
      "Epoch 3/34\n",
      "1302/1302 [==============================] - 97s 75ms/step - loss: 2.5538 - accuracy: 0.5935 - val_loss: 2.3685 - val_accuracy: 0.6157\n",
      "Epoch 4/34\n",
      "1302/1302 [==============================] - 98s 75ms/step - loss: 2.3950 - accuracy: 0.6196 - val_loss: 2.3221 - val_accuracy: 0.6262\n",
      "Epoch 5/34\n",
      "1302/1302 [==============================] - 98s 76ms/step - loss: 2.2882 - accuracy: 0.6379 - val_loss: 2.2803 - val_accuracy: 0.6355\n",
      "Epoch 6/34\n",
      "1302/1302 [==============================] - 98s 75ms/step - loss: 2.2173 - accuracy: 0.6517 - val_loss: 2.2865 - val_accuracy: 0.6352\n",
      "Epoch 7/34\n",
      "1302/1302 [==============================] - 98s 75ms/step - loss: 2.1517 - accuracy: 0.6642 - val_loss: 2.2449 - val_accuracy: 0.6472\n",
      "Epoch 8/34\n",
      "1302/1302 [==============================] - 98s 75ms/step - loss: 2.0827 - accuracy: 0.6771 - val_loss: 2.2036 - val_accuracy: 0.6560\n",
      "Epoch 9/34\n",
      "1302/1302 [==============================] - 97s 75ms/step - loss: 2.0220 - accuracy: 0.6885 - val_loss: 2.2061 - val_accuracy: 0.6606\n",
      "Epoch 10/34\n",
      "1302/1302 [==============================] - 98s 75ms/step - loss: 1.9767 - accuracy: 0.6967 - val_loss: 2.2086 - val_accuracy: 0.6662\n",
      "Epoch 11/34\n",
      "1302/1302 [==============================] - 97s 75ms/step - loss: 1.9389 - accuracy: 0.7043 - val_loss: 2.2169 - val_accuracy: 0.6637\n",
      "Epoch 12/34\n",
      "1302/1302 [==============================] - 97s 75ms/step - loss: 1.9063 - accuracy: 0.7100 - val_loss: 2.2229 - val_accuracy: 0.6666\n",
      "Epoch 13/34\n",
      "1302/1302 [==============================] - 98s 75ms/step - loss: 1.8829 - accuracy: 0.7140 - val_loss: 2.2499 - val_accuracy: 0.6661\n",
      "Epoch 14/34\n",
      "1302/1302 [==============================] - 97s 74ms/step - loss: 1.8582 - accuracy: 0.7183 - val_loss: 2.2554 - val_accuracy: 0.6670\n",
      "Epoch 15/34\n",
      "1302/1302 [==============================] - 96s 74ms/step - loss: 1.8409 - accuracy: 0.7224 - val_loss: 2.2898 - val_accuracy: 0.6650\n",
      "Epoch 16/34\n",
      "1302/1302 [==============================] - 96s 74ms/step - loss: 1.8229 - accuracy: 0.7257 - val_loss: 2.2571 - val_accuracy: 0.6704\n",
      "Epoch 17/34\n",
      "1302/1302 [==============================] - 96s 74ms/step - loss: 1.8056 - accuracy: 0.7290 - val_loss: 2.2760 - val_accuracy: 0.6702\n",
      "Epoch 18/34\n",
      "1302/1302 [==============================] - 96s 74ms/step - loss: 1.7871 - accuracy: 0.7321 - val_loss: 2.2623 - val_accuracy: 0.6709\n",
      "Epoch 19/34\n",
      "1302/1302 [==============================] - 96s 74ms/step - loss: 1.7733 - accuracy: 0.7349 - val_loss: 2.3001 - val_accuracy: 0.6699\n",
      "Epoch 20/34\n",
      "1302/1302 [==============================] - 96s 74ms/step - loss: 1.7621 - accuracy: 0.7370 - val_loss: 2.3046 - val_accuracy: 0.6651\n",
      "Epoch 21/34\n",
      "1302/1302 [==============================] - 96s 74ms/step - loss: 1.7470 - accuracy: 0.7397 - val_loss: 2.3070 - val_accuracy: 0.6701\n",
      "Epoch 22/34\n",
      "1302/1302 [==============================] - 96s 74ms/step - loss: 1.7304 - accuracy: 0.7425 - val_loss: 2.3744 - val_accuracy: 0.6697\n",
      "Epoch 23/34\n",
      "1302/1302 [==============================] - 96s 74ms/step - loss: 1.7136 - accuracy: 0.7460 - val_loss: 2.3459 - val_accuracy: 0.6661\n",
      "Epoch 24/34\n",
      "1302/1302 [==============================] - 96s 74ms/step - loss: 1.7044 - accuracy: 0.7479 - val_loss: 2.3391 - val_accuracy: 0.6740\n",
      "Epoch 25/34\n",
      "1302/1302 [==============================] - 96s 74ms/step - loss: 1.6873 - accuracy: 0.7505 - val_loss: 2.3612 - val_accuracy: 0.6698\n",
      "Epoch 26/34\n",
      "1302/1302 [==============================] - 96s 74ms/step - loss: 1.6757 - accuracy: 0.7524 - val_loss: 2.3787 - val_accuracy: 0.6700\n",
      "Epoch 27/34\n",
      "1302/1302 [==============================] - 96s 74ms/step - loss: 1.6645 - accuracy: 0.7548 - val_loss: 2.3904 - val_accuracy: 0.6704\n",
      "Epoch 28/34\n",
      "1302/1302 [==============================] - 96s 74ms/step - loss: 1.6495 - accuracy: 0.7575 - val_loss: 2.4086 - val_accuracy: 0.6732\n",
      "Epoch 29/34\n",
      "1302/1302 [==============================] - 96s 74ms/step - loss: 1.6380 - accuracy: 0.7594 - val_loss: 2.3948 - val_accuracy: 0.6738\n",
      "Epoch 30/34\n",
      "1302/1302 [==============================] - 96s 74ms/step - loss: 1.6271 - accuracy: 0.7613 - val_loss: 2.3850 - val_accuracy: 0.6709\n",
      "Epoch 31/34\n",
      "1302/1302 [==============================] - 96s 74ms/step - loss: 1.6166 - accuracy: 0.7630 - val_loss: 2.4196 - val_accuracy: 0.6710\n",
      "Epoch 32/34\n",
      "1302/1302 [==============================] - 96s 74ms/step - loss: 1.6038 - accuracy: 0.7653 - val_loss: 2.4514 - val_accuracy: 0.6725\n",
      "Epoch 33/34\n",
      "1302/1302 [==============================] - 96s 74ms/step - loss: 1.5925 - accuracy: 0.7672 - val_loss: 2.4398 - val_accuracy: 0.6706\n",
      "Epoch 34/34\n",
      "1302/1302 [==============================] - 98s 75ms/step - loss: 1.5825 - accuracy: 0.7691 - val_loss: 2.4591 - val_accuracy: 0.6724\n"
     ]
    }
   ],
   "source": [
    "callbacks = [\n",
    "    keras.callbacks.ModelCheckpoint(\n",
    "        'S2S(Transformer).keras',\n",
    "        save_best_only=True,\n",
    "        monitor='accuracy'\n",
    "    ),\n",
    "    keras.callbacks.TensorBoard(\n",
    "        log_dir='/home/antirrabia/Documents/DeepLearnin/Notebooks/TensorBoard_Logs/'\n",
    "    )\n",
    "]\n",
    "\n",
    "history = transformer.fit(\n",
    "    tr_d,\n",
    "    epochs=34,\n",
    "    validation_data=va_d,\n",
    "    callbacks=callbacks\n",
    ")"
   ]
  },
  {
   "cell_type": "markdown",
   "id": "0c9ef21b-2e53-4e2f-9ea6-432bb4b1f6ef",
   "metadata": {},
   "source": [
    "### Plotting"
   ]
  },
  {
   "cell_type": "code",
   "execution_count": 31,
   "id": "1fb3ab24-ba5e-4f64-9777-c964fc121938",
   "metadata": {},
   "outputs": [
    {
     "data": {
      "image/png": "[encoded data removed]",
      "text/plain": [
       "<Figure size 2700x700 with 2 Axes>"
      ]
     },
     "metadata": {},
     "output_type": "display_data"
    }
   ],
   "source": [
    "accuracy = history.history['accuracy']\n",
    "val_acc = history.history['val_accuracy']\n",
    "\n",
    "loss = history.history['loss']\n",
    "val_loss = history.history['val_loss']\n",
    "\n",
    "epochs = range(1, len(accuracy) + 1)\n",
    "\n",
    "fig, ax = plt.subplots(nrows=1, ncols=2, figsize=(27,7))\n",
    "\n",
    "ax[0].plot(epochs, accuracy, label='Training Accuracy')\n",
    "ax[0].plot(epochs, val_acc, label='Validation Accuracy')\n",
    "ax[0].set_title('Training and Validation Accuracy')\n",
    "ax[0].legend()\n",
    "\n",
    "ax[1].plot(epochs, loss, label='Training Loss')\n",
    "ax[1].plot(epochs, val_loss, label='Validation Loss')\n",
    "ax[1].set_title('Training and Validation Loss')\n",
    "ax[1].legend();"
   ]
  },
  {
   "cell_type": "markdown",
   "id": "ff566a54-30d7-454f-99fd-56dbb215e230",
   "metadata": {},
   "source": [
    "### Testing some sentences"
   ]
  },
  {
   "cell_type": "code",
   "execution_count": null,
   "id": "ae1e31d0-afcf-4bf2-86ee-07e515500df2",
   "metadata": {},
   "outputs": [],
   "source": [
    "test_model = keras.models.load_model(\n",
    "    'S2S(Transformer).keras',\n",
    "    custom_objects={\n",
    "        'PositionalEmbedding': PositionalEmbedding,\n",
    "        'TransformerEncoder': TransformerEncoder,\n",
    "        'TransformerDecoder': TransformerDecoder\n",
    "    }"
   ]
  }
 ],
 "metadata": {
  "kernelspec": {
   "display_name": "Python 3 (ipykernel)",
   "language": "python",
   "name": "python3"
  },
  "language_info": {
   "codemirror_mode": {
    "name": "ipython",
    "version": 3
   },
   "file_extension": ".py",
   "mimetype": "text/x-python",
   "name": "python",
   "nbconvert_exporter": "python",
   "pygments_lexer": "ipython3",
   "version": "3.11.3"
  }
 },
 "nbformat": 4,
 "nbformat_minor": 5
}
